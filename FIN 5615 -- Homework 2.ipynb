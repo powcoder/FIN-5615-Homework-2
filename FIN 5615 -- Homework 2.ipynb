{
 "cells": [
  {
   "cell_type": "markdown",
   "metadata": {},
   "source": [
    "---\n",
    "\n",
    "# Homework 2: *Learning pandas*\n",
    "---"
   ]
  },
  {
   "cell_type": "markdown",
   "metadata": {},
   "source": [
    "### Part 1. Basic pandas (10 points for each problem below)\n",
    "\n",
    "Consider the following Python dictionary *data* and Python list *labels*:\n",
    "\n",
    "> data = {'animal': ['cat', 'cat', 'snake', 'dog', 'dog', 'cat', 'snake','cat', 'dog', 'dog'],\n",
    ">        'age': [2.5, 3, 0.5, np.nan, 5, 2, 4.5, np.nan, 7, 3],\n",
    ">        'visits': [1, 3, 2, 3, 2, 3, 1, 1, 2, 1],\n",
    ">        'priority': ['yes', 'yes', 'no', 'yes', 'no', 'no', 'no', 'yes', 'no', 'no']}\n",
    "\n",
    "> labels = ['a', 'b', 'c', 'd', 'e', 'f', 'g', 'h', 'i', 'j']\n"
   ]
  },
  {
   "cell_type": "markdown",
   "metadata": {},
   "source": [
    "#### 1. \tCreate a DataFrame *df* from this dictionary *data* which has the index given by *labels*."
   ]
  },
  {
   "cell_type": "code",
   "execution_count": null,
   "metadata": {},
   "outputs": [],
   "source": []
  },
  {
   "cell_type": "markdown",
   "metadata": {},
   "source": [
    "#### 2.\tSelect just the *'animal'* and *'age'* columns from the DataFrame *df*."
   ]
  },
  {
   "cell_type": "code",
   "execution_count": null,
   "metadata": {},
   "outputs": [],
   "source": []
  },
  {
   "cell_type": "markdown",
   "metadata": {},
   "source": [
    "#### 3.Change the age in row *'f'* to 1.5."
   ]
  },
  {
   "cell_type": "code",
   "execution_count": null,
   "metadata": {},
   "outputs": [],
   "source": []
  },
  {
   "cell_type": "markdown",
   "metadata": {},
   "source": [
    "#### 4.\tSelect the rows where the *animal* is a cat and the *age* is less than 3."
   ]
  },
  {
   "cell_type": "code",
   "execution_count": null,
   "metadata": {},
   "outputs": [],
   "source": []
  },
  {
   "cell_type": "markdown",
   "metadata": {},
   "source": [
    "#### 5.\tCalculate the mean *age* for each different *animal* in *df*."
   ]
  },
  {
   "cell_type": "code",
   "execution_count": null,
   "metadata": {},
   "outputs": [],
   "source": []
  },
  {
   "cell_type": "markdown",
   "metadata": {},
   "source": [
    "#### 6.\tAppend a new row *'k'* to *df* with your choice of values for each column. Then delete that row to return the original DataFrame."
   ]
  },
  {
   "cell_type": "code",
   "execution_count": null,
   "metadata": {},
   "outputs": [],
   "source": []
  },
  {
   "cell_type": "markdown",
   "metadata": {},
   "source": [
    "#### 7.\tSort df first by the values in the *'age'* in descending order, then by the value in the *'visit'* column in ascending order."
   ]
  },
  {
   "cell_type": "code",
   "execution_count": null,
   "metadata": {},
   "outputs": [],
   "source": []
  },
  {
   "cell_type": "markdown",
   "metadata": {},
   "source": [
    "### Part 2: Stocks Data (30 Points)"
   ]
  },
  {
   "cell_type": "markdown",
   "metadata": {},
   "source": [
    "#### 1. Download SPY, AIG, AMZN, JPM, F monthly price data from Yahoo! as your test data in .csv format from (2012/12 to 2017/12) for total 61 months."
   ]
  },
  {
   "cell_type": "markdown",
   "metadata": {},
   "source": [
    "#### 2. Write a Python code to load these data to a pandas.DataFrame object, such that index are calendar month, columns are stock names."
   ]
  },
  {
   "cell_type": "code",
   "execution_count": null,
   "metadata": {},
   "outputs": [],
   "source": []
  },
  {
   "cell_type": "markdown",
   "metadata": {},
   "source": [
    "#### 3. Calculate monthly returns of these stocks as a pandas.DateFrame object"
   ]
  },
  {
   "cell_type": "code",
   "execution_count": null,
   "metadata": {},
   "outputs": [],
   "source": []
  },
  {
   "cell_type": "markdown",
   "metadata": {},
   "source": [
    "#### 4.\tCalculate normalized returns for these stocks as a pandas.DateFrame object: $R_n = \\frac{R-R_{avg}}{\\sigma}$"
   ]
  },
  {
   "cell_type": "code",
   "execution_count": null,
   "metadata": {},
   "outputs": [],
   "source": []
  },
  {
   "cell_type": "markdown",
   "metadata": {},
   "source": [
    "#### 5. Calculate the correlation matrix of these stocks"
   ]
  },
  {
   "cell_type": "code",
   "execution_count": null,
   "metadata": {},
   "outputs": [],
   "source": []
  },
  {
   "cell_type": "markdown",
   "metadata": {},
   "source": [
    "#### 6.\tPerform a Student’s t-test to exam whether AIG, AMZN, JPM, F have significant difference in mean relative to the index SPY return "
   ]
  },
  {
   "cell_type": "code",
   "execution_count": null,
   "metadata": {},
   "outputs": [],
   "source": []
  },
  {
   "cell_type": "markdown",
   "metadata": {},
   "source": [
    "### Part 3. *XCEL* data Loading (Bonus 20 points)\n",
    "\n",
    "Read https://pandas.pydata.org/pandas-docs/stable/generated/pandas.read_excel.html and learn how to read in a data from Excel file in pandas. "
   ]
  },
  {
   "cell_type": "markdown",
   "metadata": {},
   "source": [
    "#### 1.\tDownload US Treasury 2Y, 10Y Constant Maturity Treasury monthly rates and GDP growth rate changes from FED St. Louis website as Excel file \n",
    "\n",
    "https://fred.stlouisfed.org/series/GS2\n",
    "\n",
    "https://fred.stlouisfed.org/series/GS10\n",
    "\n",
    "https://fred.stlouisfed.org/graph/?id=A191RP1Q027SBEA\n"
   ]
  },
  {
   "cell_type": "markdown",
   "metadata": {},
   "source": [
    "#### 2.\tUpload these original data files to your Python code. Test whether there is a relationship between treasury rates inverting (10Y – 2Y < 0) and economic recessions (GDP growth rates change < 0). \n",
    "\n",
    "> a.\tUse matplotlib to plot the time series of treasury rates slop (10Y – 2Y) and the GDP growth rate changes. \n",
    "\n",
    "> b.\tExam a lead-lag relationship between negative slope (continue for three months) and lagged (3 months, 6 months) GDP growth rate changes.\n",
    "\n",
    "#### This is an open topic, extra effort and results will be awarded for bonus points up to 20 points."
   ]
  },
  {
   "cell_type": "code",
   "execution_count": null,
   "metadata": {},
   "outputs": [],
   "source": []
  }
 ],
 "metadata": {
  "kernelspec": {
   "display_name": "Python 3",
   "language": "python",
   "name": "python3"
  },
  "language_info": {
   "codemirror_mode": {
    "name": "ipython",
    "version": 3
   },
   "file_extension": ".py",
   "mimetype": "text/x-python",
   "name": "python",
   "nbconvert_exporter": "python",
   "pygments_lexer": "ipython3",
   "version": "3.7.3"
  }
 },
 "nbformat": 4,
 "nbformat_minor": 2
}
